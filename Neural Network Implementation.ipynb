{
 "cells": [
  {
   "cell_type": "markdown",
   "id": "weighted-concord",
   "metadata": {},
   "source": [
    "## Neural Network Implementation\n",
    "In this notebook we will implement the neural network. In this notebook we will first read our dataset and then we will initialize the Neural Network and then we will first train it and then test it on testing dataset."
   ]
  },
  {
   "cell_type": "markdown",
   "id": "optional-receiver",
   "metadata": {},
   "source": [
    "### Libraries to be used\n",
    "In this notebook we will use following libraries:\n",
    "\n",
    "- **Numpy**\n",
    "- **Keras** (For Neural Network)\n",
    "- **Matplotlib**\n",
    "- **Pickle**"
   ]
  },
  {
   "cell_type": "code",
   "execution_count": 3,
   "id": "historic-qualification",
   "metadata": {},
   "outputs": [],
   "source": [
    "import numpy as np\n",
    "import pickle\n",
    "import keras\n",
    "from keras.preprocessing.image import ImageDataGenerator\n",
    "from keras.models import Sequential\n",
    "from keras.layers import Conv2D, Dropout, Flatten, Dense, MaxPooling2D\n",
    "from keras.regularizers import l2\n",
    "import matplotlib.pyplot as plt"
   ]
  },
  {
   "cell_type": "markdown",
   "id": "personal-nebraska",
   "metadata": {},
   "source": [
    "### Reading Training Dataset"
   ]
  },
  {
   "cell_type": "code",
   "execution_count": 7,
   "id": "fancy-edward",
   "metadata": {},
   "outputs": [],
   "source": [
    "with open('Data/X_train.pickle', 'rb') as f:\n",
    "    X_train = pickle.load(f)\n",
    "    \n",
    "with open('Data/X_valid.pickle', 'rb') as f:\n",
    "    X_valid = pickle.load(f)\n",
    "    \n",
    "with open('Data/X_test.pickle', 'rb') as f:\n",
    "    X_test = pickle.load(f)"
   ]
  },
  {
   "cell_type": "code",
   "execution_count": 11,
   "id": "toxic-landing",
   "metadata": {},
   "outputs": [],
   "source": [
    "with open('Data/y_train.pickle', 'rb') as f:\n",
    "    y_train = pickle.load(f)\n",
    "    \n",
    "with open('Data/y_valid.pickle', 'rb') as f:\n",
    "    y_valid = pickle.load(f)\n",
    "    \n",
    "with open('Data/y_test.pickle', 'rb') as f:\n",
    "    y_test = pickle.load(f)"
   ]
  },
  {
   "cell_type": "code",
   "execution_count": 20,
   "id": "sought-causing",
   "metadata": {},
   "outputs": [
    {
     "name": "stdout",
     "output_type": "stream",
     "text": [
      "Number of Images in Training set are:  945\n",
      "Number of Images in Validation set are:  105\n",
      "Number of Images in Testing set are:  50\n"
     ]
    }
   ],
   "source": [
    "print(\"Number of Images in Training set are: \", X_train.shape[0])\n",
    "print(\"Number of Images in Validation set are: \", X_valid.shape[0])\n",
    "print(\"Number of Images in Testing set are: \", X_test.shape[0])"
   ]
  },
  {
   "cell_type": "markdown",
   "id": "emerging-patio",
   "metadata": {},
   "source": [
    "## Data Augumentation\n",
    "Data Augumentation is a technique by which we can flip and shit the image so then the model can learn in a better way and it also helps to prevent overfitting. By the help of data augumentation technique our model will be much more generic as compared to the model without data augumentation."
   ]
  },
  {
   "cell_type": "code",
   "execution_count": 12,
   "id": "retired-microwave",
   "metadata": {},
   "outputs": [],
   "source": [
    "# data augumentation\n",
    "datagen = ImageDataGenerator(\n",
    "                width_shift_range = 0.1,\n",
    "                height_shift_range=0.1,\n",
    "                horizontal_flip=True\n",
    ")\n",
    "\n",
    "datagen.fit(X_train)"
   ]
  },
  {
   "cell_type": "markdown",
   "id": "embedded-coffee",
   "metadata": {},
   "source": [
    "## One Hot Encoding the labels"
   ]
  },
  {
   "cell_type": "code",
   "execution_count": 13,
   "id": "turned-check",
   "metadata": {},
   "outputs": [
    {
     "data": {
      "text/plain": [
       "array([[1., 0., 0., 0., 0.],\n",
       "       [0., 1., 0., 0., 0.],\n",
       "       [0., 0., 1., 0., 0.],\n",
       "       [0., 0., 0., 0., 1.],\n",
       "       [1., 0., 0., 0., 0.],\n",
       "       [0., 0., 1., 0., 0.],\n",
       "       [1., 0., 0., 0., 0.],\n",
       "       [1., 0., 0., 0., 0.],\n",
       "       [0., 0., 0., 1., 0.],\n",
       "       [1., 0., 0., 0., 0.]], dtype=float32)"
      ]
     },
     "execution_count": 13,
     "metadata": {},
     "output_type": "execute_result"
    }
   ],
   "source": [
    "#one hot encoding the classes (labels)\n",
    "num_classes = len(np.unique(y_train))\n",
    "y_train = keras.utils.to_categorical(y_train, num_classes)\n",
    "y_valid = keras.utils.to_categorical(y_valid, num_classes)\n",
    "y_test = keras.utils.to_categorical(y_test, num_classes)\n",
    "\n",
    "y_train[:10]"
   ]
  },
  {
   "cell_type": "markdown",
   "id": "modern-scheme",
   "metadata": {},
   "source": [
    "## Initializing the model\n",
    "Now in this section below we will initialize the model. In this model we will be using following layers:\n",
    "\n",
    "- 2 Conv2D Layers (Convolutional Layers)\n",
    "- 3 Dropout Layers.\n",
    "- 1 Max Pooling layer.\n",
    "- 1 Flatten Layer.\n",
    "- 1 Dense Layer.\n",
    "- Output Layer with 5 nodes.\n",
    "\n",
    "In this model we will also use **L1 Regularization**, this will penalize the weights of the model in case of overfitting. This will help the model to learn in a better way. "
   ]
  },
  {
   "cell_type": "code",
   "execution_count": 60,
   "id": "light-exhibition",
   "metadata": {},
   "outputs": [
    {
     "name": "stdout",
     "output_type": "stream",
     "text": [
      "Model: \"sequential_18\"\n",
      "_________________________________________________________________\n",
      "Layer (type)                 Output Shape              Param #   \n",
      "=================================================================\n",
      "conv2d_53 (Conv2D)           (None, 122, 122, 16)      272       \n",
      "_________________________________________________________________\n",
      "dropout_66 (Dropout)         (None, 122, 122, 16)      0         \n",
      "_________________________________________________________________\n",
      "max_pooling2d_34 (MaxPooling (None, 61, 61, 16)        0         \n",
      "_________________________________________________________________\n",
      "conv2d_54 (Conv2D)           (None, 58, 58, 32)        8224      \n",
      "_________________________________________________________________\n",
      "dropout_67 (Dropout)         (None, 58, 58, 32)        0         \n",
      "_________________________________________________________________\n",
      "flatten_18 (Flatten)         (None, 107648)            0         \n",
      "_________________________________________________________________\n",
      "dense_36 (Dense)             (None, 128)               13779072  \n",
      "_________________________________________________________________\n",
      "dropout_68 (Dropout)         (None, 128)               0         \n",
      "_________________________________________________________________\n",
      "dense_37 (Dense)             (None, 5)                 645       \n",
      "=================================================================\n",
      "Total params: 13,788,213\n",
      "Trainable params: 13,788,213\n",
      "Non-trainable params: 0\n",
      "_________________________________________________________________\n"
     ]
    }
   ],
   "source": [
    "cnn_model = Sequential()\n",
    "\n",
    "cnn_model.add(Conv2D(filters=16, kernel_size=4, kernel_regularizer=l2(0.01), bias_regularizer=l2(0.01), activation=\"relu\", input_shape=(IMG_SIZE, IMG_SIZE, 1)))\n",
    "# Dropout Layer\n",
    "cnn_model.add(Dropout(0.4))\n",
    "#  Pooling layer\n",
    "cnn_model.add(MaxPooling2D(pool_size=2))\n",
    "\n",
    "# Conv Layer\n",
    "cnn_model.add(Conv2D(filters=32, kernel_size=4, kernel_regularizer=l2(0.01), bias_regularizer=l2(0.01), activation=\"relu\"))\n",
    "# Dropout Layer\n",
    "cnn_model.add(Dropout(0.4))\n",
    "\n",
    "# Now adding a Flatten layer to flatten the matrix into a vector so then we can classify the data\n",
    "cnn_model.add(Flatten())\n",
    "\n",
    "# Now same as MLP we will add Dense layer\n",
    "cnn_model.add(Dense(128, activation=\"sigmoid\"))\n",
    "# Dropout Layer\n",
    "cnn_model.add(Dropout(0.4))\n",
    "\n",
    "# Output Layer\n",
    "cnn_model.add(Dense(5, activation=\"softmax\"))\n",
    "\n",
    "cnn_model.summary()\n",
    "cnn_model.compile(loss=\"categorical_crossentropy\", optimizer=\"adam\", metrics=[\"accuracy\"])"
   ]
  },
  {
   "cell_type": "markdown",
   "id": "everyday-terrace",
   "metadata": {},
   "source": [
    "## Model Training\n",
    "We will train the model with Checkpoints, this will save the best weights of the model."
   ]
  },
  {
   "cell_type": "code",
   "execution_count": 61,
   "id": "accepted-modeling",
   "metadata": {},
   "outputs": [
    {
     "name": "stdout",
     "output_type": "stream",
     "text": [
      "Epoch 1/50\n",
      "47/47 [==============================] - 17s 346ms/step - loss: 2.0433 - accuracy: 0.2735 - val_loss: 1.2191 - val_accuracy: 0.6000\n",
      "\n",
      "Epoch 00001: val_loss improved from inf to 1.21914, saving model to cnn.weights.best.hdf5\n",
      "Epoch 2/50\n",
      "47/47 [==============================] - 16s 337ms/step - loss: 1.3374 - accuracy: 0.5045 - val_loss: 1.4236 - val_accuracy: 0.4762\n",
      "\n",
      "Epoch 00002: val_loss did not improve from 1.21914\n",
      "Epoch 3/50\n",
      "47/47 [==============================] - 16s 339ms/step - loss: 1.0956 - accuracy: 0.6027 - val_loss: 1.0569 - val_accuracy: 0.6571\n",
      "\n",
      "Epoch 00003: val_loss improved from 1.21914 to 1.05689, saving model to cnn.weights.best.hdf5\n",
      "Epoch 4/50\n",
      "47/47 [==============================] - 16s 341ms/step - loss: 1.0643 - accuracy: 0.6194 - val_loss: 1.3784 - val_accuracy: 0.5048\n",
      "\n",
      "Epoch 00004: val_loss did not improve from 1.05689\n",
      "Epoch 5/50\n",
      "47/47 [==============================] - 16s 339ms/step - loss: 1.0097 - accuracy: 0.6385 - val_loss: 1.1416 - val_accuracy: 0.5714\n",
      "\n",
      "Epoch 00005: val_loss did not improve from 1.05689\n",
      "Epoch 6/50\n",
      "47/47 [==============================] - 16s 344ms/step - loss: 0.9491 - accuracy: 0.6517 - val_loss: 0.9335 - val_accuracy: 0.7143\n",
      "\n",
      "Epoch 00006: val_loss improved from 1.05689 to 0.93353, saving model to cnn.weights.best.hdf5\n",
      "Epoch 7/50\n",
      "47/47 [==============================] - 16s 339ms/step - loss: 1.0310 - accuracy: 0.6358 - val_loss: 1.0612 - val_accuracy: 0.5810\n",
      "\n",
      "Epoch 00007: val_loss did not improve from 0.93353\n",
      "Epoch 8/50\n",
      "47/47 [==============================] - 16s 342ms/step - loss: 0.9557 - accuracy: 0.6425 - val_loss: 1.0778 - val_accuracy: 0.6095\n",
      "\n",
      "Epoch 00008: val_loss did not improve from 0.93353\n",
      "Epoch 9/50\n",
      "47/47 [==============================] - 16s 340ms/step - loss: 0.8590 - accuracy: 0.7051 - val_loss: 1.4012 - val_accuracy: 0.4952\n",
      "\n",
      "Epoch 00009: val_loss did not improve from 0.93353\n",
      "Epoch 10/50\n",
      "47/47 [==============================] - 16s 338ms/step - loss: 0.8877 - accuracy: 0.6898 - val_loss: 0.8761 - val_accuracy: 0.7238\n",
      "\n",
      "Epoch 00010: val_loss improved from 0.93353 to 0.87607, saving model to cnn.weights.best.hdf5\n",
      "Epoch 11/50\n",
      "47/47 [==============================] - 16s 340ms/step - loss: 0.9034 - accuracy: 0.6673 - val_loss: 1.0050 - val_accuracy: 0.6667\n",
      "\n",
      "Epoch 00011: val_loss did not improve from 0.87607\n",
      "Epoch 12/50\n",
      "47/47 [==============================] - 16s 349ms/step - loss: 0.8019 - accuracy: 0.7111 - val_loss: 0.8327 - val_accuracy: 0.7524\n",
      "\n",
      "Epoch 00012: val_loss improved from 0.87607 to 0.83272, saving model to cnn.weights.best.hdf5\n",
      "Epoch 13/50\n",
      "47/47 [==============================] - 19s 403ms/step - loss: 0.7714 - accuracy: 0.7238 - val_loss: 1.1627 - val_accuracy: 0.5524\n",
      "\n",
      "Epoch 00013: val_loss did not improve from 0.83272\n",
      "Epoch 14/50\n",
      "47/47 [==============================] - 20s 424ms/step - loss: 0.8038 - accuracy: 0.7052 - val_loss: 1.0009 - val_accuracy: 0.6667\n",
      "\n",
      "Epoch 00014: val_loss did not improve from 0.83272\n",
      "Epoch 15/50\n",
      "47/47 [==============================] - 17s 366ms/step - loss: 0.7407 - accuracy: 0.7400 - val_loss: 0.8273 - val_accuracy: 0.7238\n",
      "\n",
      "Epoch 00015: val_loss improved from 0.83272 to 0.82734, saving model to cnn.weights.best.hdf5\n",
      "Epoch 16/50\n",
      "47/47 [==============================] - 18s 377ms/step - loss: 0.7280 - accuracy: 0.7594 - val_loss: 0.9732 - val_accuracy: 0.6762\n",
      "\n",
      "Epoch 00016: val_loss did not improve from 0.82734\n",
      "Epoch 17/50\n",
      "47/47 [==============================] - 18s 378ms/step - loss: 0.7476 - accuracy: 0.7509 - val_loss: 0.8424 - val_accuracy: 0.7429\n",
      "\n",
      "Epoch 00017: val_loss did not improve from 0.82734\n",
      "Epoch 18/50\n",
      "47/47 [==============================] - 16s 342ms/step - loss: 0.6994 - accuracy: 0.7572 - val_loss: 0.9352 - val_accuracy: 0.6857\n",
      "\n",
      "Epoch 00018: val_loss did not improve from 0.82734\n",
      "Epoch 19/50\n",
      "47/47 [==============================] - 16s 343ms/step - loss: 0.6888 - accuracy: 0.7652 - val_loss: 0.9224 - val_accuracy: 0.7143\n",
      "\n",
      "Epoch 00019: val_loss did not improve from 0.82734\n",
      "Epoch 20/50\n",
      "47/47 [==============================] - 16s 340ms/step - loss: 0.6544 - accuracy: 0.7858 - val_loss: 0.9104 - val_accuracy: 0.7048\n",
      "\n",
      "Epoch 00020: val_loss did not improve from 0.82734\n",
      "Epoch 21/50\n",
      "47/47 [==============================] - 16s 341ms/step - loss: 0.6842 - accuracy: 0.7665 - val_loss: 0.6878 - val_accuracy: 0.7905\n",
      "\n",
      "Epoch 00021: val_loss improved from 0.82734 to 0.68780, saving model to cnn.weights.best.hdf5\n",
      "Epoch 22/50\n",
      "47/47 [==============================] - 17s 355ms/step - loss: 0.6584 - accuracy: 0.7700 - val_loss: 1.1044 - val_accuracy: 0.5905\n",
      "\n",
      "Epoch 00022: val_loss did not improve from 0.68780\n",
      "Epoch 23/50\n",
      "47/47 [==============================] - 16s 349ms/step - loss: 0.6375 - accuracy: 0.7799 - val_loss: 0.8852 - val_accuracy: 0.7238\n",
      "\n",
      "Epoch 00023: val_loss did not improve from 0.68780\n",
      "Epoch 24/50\n",
      "47/47 [==============================] - 16s 348ms/step - loss: 0.6354 - accuracy: 0.7947 - val_loss: 0.9037 - val_accuracy: 0.7238\n",
      "\n",
      "Epoch 00024: val_loss did not improve from 0.68780\n",
      "Epoch 25/50\n",
      "47/47 [==============================] - 16s 348ms/step - loss: 0.6425 - accuracy: 0.7984 - val_loss: 1.0253 - val_accuracy: 0.6476\n",
      "\n",
      "Epoch 00025: val_loss did not improve from 0.68780\n",
      "Epoch 26/50\n",
      "47/47 [==============================] - 16s 345ms/step - loss: 0.5766 - accuracy: 0.8205 - val_loss: 0.7541 - val_accuracy: 0.7619\n",
      "\n",
      "Epoch 00026: val_loss did not improve from 0.68780\n",
      "Epoch 27/50\n",
      "47/47 [==============================] - 16s 343ms/step - loss: 0.6840 - accuracy: 0.7633 - val_loss: 0.9341 - val_accuracy: 0.7143\n",
      "\n",
      "Epoch 00027: val_loss did not improve from 0.68780\n",
      "Epoch 28/50\n",
      "47/47 [==============================] - 16s 343ms/step - loss: 0.6451 - accuracy: 0.7801 - val_loss: 1.1077 - val_accuracy: 0.6095\n",
      "\n",
      "Epoch 00028: val_loss did not improve from 0.68780\n",
      "Epoch 29/50\n",
      "47/47 [==============================] - 16s 343ms/step - loss: 0.6014 - accuracy: 0.7886 - val_loss: 0.7384 - val_accuracy: 0.7810\n",
      "\n",
      "Epoch 00029: val_loss did not improve from 0.68780\n",
      "Epoch 30/50\n",
      "47/47 [==============================] - 16s 343ms/step - loss: 0.5552 - accuracy: 0.8220 - val_loss: 0.7273 - val_accuracy: 0.7619\n",
      "\n",
      "Epoch 00030: val_loss did not improve from 0.68780\n",
      "Epoch 31/50\n",
      "47/47 [==============================] - 16s 344ms/step - loss: 0.6376 - accuracy: 0.7761 - val_loss: 0.8744 - val_accuracy: 0.7429\n",
      "\n",
      "Epoch 00031: val_loss did not improve from 0.68780\n",
      "Epoch 32/50\n",
      "47/47 [==============================] - 17s 358ms/step - loss: 0.5820 - accuracy: 0.8117 - val_loss: 0.7742 - val_accuracy: 0.7524\n",
      "\n",
      "Epoch 00032: val_loss did not improve from 0.68780\n",
      "Epoch 33/50\n",
      "47/47 [==============================] - 16s 346ms/step - loss: 0.6055 - accuracy: 0.8082 - val_loss: 0.8440 - val_accuracy: 0.7143\n",
      "\n",
      "Epoch 00033: val_loss did not improve from 0.68780\n",
      "Epoch 34/50\n",
      "47/47 [==============================] - 16s 347ms/step - loss: 0.5937 - accuracy: 0.8040 - val_loss: 0.9097 - val_accuracy: 0.6952\n",
      "\n",
      "Epoch 00034: val_loss did not improve from 0.68780\n",
      "Epoch 35/50\n",
      "47/47 [==============================] - 16s 343ms/step - loss: 0.5485 - accuracy: 0.8126 - val_loss: 0.8161 - val_accuracy: 0.7619\n",
      "\n",
      "Epoch 00035: val_loss did not improve from 0.68780\n",
      "Epoch 36/50\n",
      "47/47 [==============================] - 16s 343ms/step - loss: 0.6252 - accuracy: 0.7818 - val_loss: 0.6797 - val_accuracy: 0.8000\n",
      "\n",
      "Epoch 00036: val_loss improved from 0.68780 to 0.67974, saving model to cnn.weights.best.hdf5\n",
      "Epoch 37/50\n",
      "47/47 [==============================] - 16s 345ms/step - loss: 0.5723 - accuracy: 0.7966 - val_loss: 0.6511 - val_accuracy: 0.8286\n",
      "\n",
      "Epoch 00037: val_loss improved from 0.67974 to 0.65112, saving model to cnn.weights.best.hdf5\n",
      "Epoch 38/50\n",
      "47/47 [==============================] - 16s 345ms/step - loss: 0.5899 - accuracy: 0.8158 - val_loss: 0.6606 - val_accuracy: 0.8000\n",
      "\n",
      "Epoch 00038: val_loss did not improve from 0.65112\n",
      "Epoch 39/50\n",
      "47/47 [==============================] - 16s 345ms/step - loss: 0.4940 - accuracy: 0.8524 - val_loss: 0.8279 - val_accuracy: 0.7143\n",
      "\n",
      "Epoch 00039: val_loss did not improve from 0.65112\n",
      "Epoch 40/50\n",
      "47/47 [==============================] - 16s 345ms/step - loss: 0.5197 - accuracy: 0.8292 - val_loss: 0.7328 - val_accuracy: 0.7905\n",
      "\n",
      "Epoch 00040: val_loss did not improve from 0.65112\n",
      "Epoch 41/50\n"
     ]
    },
    {
     "name": "stdout",
     "output_type": "stream",
     "text": [
      "47/47 [==============================] - 16s 339ms/step - loss: 0.5343 - accuracy: 0.8371 - val_loss: 1.2055 - val_accuracy: 0.6000\n",
      "\n",
      "Epoch 00041: val_loss did not improve from 0.65112\n",
      "Epoch 42/50\n",
      "47/47 [==============================] - 16s 341ms/step - loss: 0.5955 - accuracy: 0.7962 - val_loss: 0.7481 - val_accuracy: 0.7524\n",
      "\n",
      "Epoch 00042: val_loss did not improve from 0.65112\n",
      "Epoch 43/50\n",
      "47/47 [==============================] - 16s 348ms/step - loss: 0.5156 - accuracy: 0.8335 - val_loss: 0.6544 - val_accuracy: 0.7905\n",
      "\n",
      "Epoch 00043: val_loss did not improve from 0.65112\n",
      "Epoch 44/50\n",
      "47/47 [==============================] - 16s 350ms/step - loss: 0.5308 - accuracy: 0.8232 - val_loss: 0.8889 - val_accuracy: 0.7238\n",
      "\n",
      "Epoch 00044: val_loss did not improve from 0.65112\n",
      "Epoch 45/50\n",
      "47/47 [==============================] - 16s 341ms/step - loss: 0.5141 - accuracy: 0.8392 - val_loss: 0.6479 - val_accuracy: 0.8095\n",
      "\n",
      "Epoch 00045: val_loss improved from 0.65112 to 0.64794, saving model to cnn.weights.best.hdf5\n",
      "Epoch 46/50\n",
      "47/47 [==============================] - 16s 341ms/step - loss: 0.5401 - accuracy: 0.8409 - val_loss: 0.9591 - val_accuracy: 0.6667\n",
      "\n",
      "Epoch 00046: val_loss did not improve from 0.64794\n",
      "Epoch 47/50\n",
      "47/47 [==============================] - 16s 340ms/step - loss: 0.5199 - accuracy: 0.8363 - val_loss: 0.6860 - val_accuracy: 0.7810\n",
      "\n",
      "Epoch 00047: val_loss did not improve from 0.64794\n",
      "Epoch 48/50\n",
      "47/47 [==============================] - 16s 343ms/step - loss: 0.5380 - accuracy: 0.8297 - val_loss: 0.6215 - val_accuracy: 0.8286\n",
      "\n",
      "Epoch 00048: val_loss improved from 0.64794 to 0.62154, saving model to cnn.weights.best.hdf5\n",
      "Epoch 49/50\n",
      "47/47 [==============================] - 16s 342ms/step - loss: 0.5103 - accuracy: 0.8167 - val_loss: 0.9638 - val_accuracy: 0.7048\n",
      "\n",
      "Epoch 00049: val_loss did not improve from 0.62154\n",
      "Epoch 50/50\n",
      "47/47 [==============================] - 16s 343ms/step - loss: 0.4640 - accuracy: 0.8598 - val_loss: 0.6027 - val_accuracy: 0.8190\n",
      "\n",
      "Epoch 00050: val_loss improved from 0.62154 to 0.60271, saving model to cnn.weights.best.hdf5\n"
     ]
    }
   ],
   "source": [
    "# evaluating the model with validations\n",
    "from keras.callbacks import ModelCheckpoint\n",
    "\n",
    "checkpointer = ModelCheckpoint(filepath='cnn.weights.best.hdf5', verbose=1, save_best_only=True)\n",
    "\n",
    "batch_size = 20\n",
    "epochs = 50\n",
    "\n",
    "hist = cnn_model.fit(datagen.flow(X_train, y_train, batch_size=batch_size),\n",
    "                               steps_per_epoch=X_train.shape[0]//batch_size,\n",
    "                               epochs=epochs,\n",
    "                               validation_data=(X_valid, y_valid),\n",
    "                               callbacks=[checkpointer],\n",
    "                               verbose=1,\n",
    "                               shuffle=True)"
   ]
  },
  {
   "cell_type": "markdown",
   "id": "isolated-integral",
   "metadata": {},
   "source": [
    "## Visualizing Accuracy\n",
    "In the code section below we will visualize the **training vs validation** accuracy."
   ]
  },
  {
   "cell_type": "code",
   "execution_count": 62,
   "id": "thousand-supplier",
   "metadata": {},
   "outputs": [
    {
     "data": {
      "image/png": "[encoded data removed]",
      "text/plain": [
       "<Figure size 864x360 with 1 Axes>"
      ]
     },
     "metadata": {
      "needs_background": "light"
     },
     "output_type": "display_data"
    }
   ],
   "source": [
    "plt.figure(figsize=(12, 5))\n",
    "\n",
    "plt.plot(hist.history['accuracy'], label='Accuracy (training data)')\n",
    "plt.plot(hist.history['val_accuracy'], label='Accuracy (validation data)')\n",
    "plt.title('Accuracy')\n",
    "plt.ylabel('Accuracy')\n",
    "plt.xlabel('No. epoch')\n",
    "plt.legend(loc=\"best\")\n",
    "plt.show()"
   ]
  },
  {
   "cell_type": "markdown",
   "id": "metallic-board",
   "metadata": {},
   "source": [
    "### Evaluating the Model on Validation set"
   ]
  },
  {
   "cell_type": "code",
   "execution_count": 63,
   "id": "dutch-buffalo",
   "metadata": {},
   "outputs": [
    {
     "name": "stdout",
     "output_type": "stream",
     "text": [
      "4/4 [==============================] - 0s 63ms/step - loss: 0.6027 - accuracy: 0.8190\n"
     ]
    },
    {
     "data": {
      "text/plain": [
       "[0.6027138233184814, 0.8190476298332214]"
      ]
     },
     "execution_count": 63,
     "metadata": {},
     "output_type": "execute_result"
    }
   ],
   "source": [
    "cnn_model.evaluate(X_valid, y_valid)"
   ]
  },
  {
   "cell_type": "markdown",
   "id": "beneficial-exchange",
   "metadata": {},
   "source": [
    "## Saving Model\n",
    "Now we will save the model and the weights in a file, so in that way we can use this model in future."
   ]
  },
  {
   "cell_type": "code",
   "execution_count": 64,
   "id": "female-relation",
   "metadata": {},
   "outputs": [
    {
     "name": "stdout",
     "output_type": "stream",
     "text": [
      "Saved model to disk\n"
     ]
    }
   ],
   "source": [
    "# serialize model to JSON\n",
    "model_json = cnn_model.to_json()\n",
    "with open(\"cnn_model.json\", \"w\") as json_file:\n",
    "    json_file.write(model_json)\n",
    "\n",
    "# serialize weights to HDF5\n",
    "cnn_model.save_weights(\"cnn_model.h5\")\n",
    "print(\"Saved model to disk\")"
   ]
  },
  {
   "cell_type": "markdown",
   "id": "remarkable-benjamin",
   "metadata": {},
   "source": [
    "## Loading Saved Model\n",
    "Now we will load the saved model to test it with testing dataset"
   ]
  },
  {
   "cell_type": "code",
   "execution_count": 21,
   "id": "global-management",
   "metadata": {},
   "outputs": [
    {
     "name": "stdout",
     "output_type": "stream",
     "text": [
      "Loaded model from disk\n"
     ]
    }
   ],
   "source": [
    "from keras.models import model_from_json\n",
    "\n",
    "json_file = open('cnn_model.json', 'r')\n",
    "loaded_model_json = json_file.read()\n",
    "json_file.close()\n",
    "loaded_model = model_from_json(loaded_model_json)\n",
    "\n",
    "# load weights into new model\n",
    "loaded_model.load_weights(\"cnn_model.h5\")\n",
    "\n",
    "print(\"Loaded model from disk\")\n",
    " \n",
    "# Compiling loaded model\n",
    "loaded_model.compile(loss='categorical_crossentropy', optimizer='adam', metrics=['accuracy'])"
   ]
  },
  {
   "cell_type": "markdown",
   "id": "vulnerable-happening",
   "metadata": {},
   "source": [
    "## Evaluating the model on testing dataset"
   ]
  },
  {
   "cell_type": "code",
   "execution_count": 22,
   "id": "configured-century",
   "metadata": {},
   "outputs": [
    {
     "name": "stdout",
     "output_type": "stream",
     "text": [
      "2/2 [==============================] - 0s 55ms/step - loss: 0.5531 - accuracy: 0.8279\n"
     ]
    },
    {
     "data": {
      "text/plain": [
       "[0.5492489337921143, 0.8199999928474426]"
      ]
     },
     "execution_count": 22,
     "metadata": {},
     "output_type": "execute_result"
    }
   ],
   "source": [
    "loaded_model.evaluate(X_test, y_test, verbose=1)"
   ]
  }
 ],
 "metadata": {
  "kernelspec": {
   "display_name": "Python 3",
   "language": "python",
   "name": "python3"
  },
  "language_info": {
   "codemirror_mode": {
    "name": "ipython",
    "version": 3
   },
   "file_extension": ".py",
   "mimetype": "text/x-python",
   "name": "python",
   "nbconvert_exporter": "python",
   "pygments_lexer": "ipython3",
   "version": "3.8.5"
  }
 },
 "nbformat": 4,
 "nbformat_minor": 5
}
